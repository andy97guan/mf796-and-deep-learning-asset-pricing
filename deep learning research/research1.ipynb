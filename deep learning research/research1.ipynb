{
 "cells": [
  {
   "cell_type": "code",
   "execution_count": 1,
   "metadata": {},
   "outputs": [
    {
     "name": "stderr",
     "output_type": "stream",
     "text": [
      "Using TensorFlow backend.\n"
     ]
    },
    {
     "data": {
      "text/plain": [
       "'2.3.1'"
      ]
     },
     "execution_count": 1,
     "metadata": {},
     "output_type": "execute_result"
    }
   ],
   "source": [
    "import keras\n",
    "keras.__version__"
   ]
  },
  {
   "cell_type": "code",
   "execution_count": 2,
   "metadata": {},
   "outputs": [],
   "source": [
    "import tensorflow as tf\n",
    "from keras.backend.tensorflow_backend import set_session\n",
    "config = tf.ConfigProto()\n",
    "config.gpu_options.allocator_type = 'BFC' #A \"Best-fit with coalescing\" algorithm, simplified from a version of dlmalloc.\n",
    "config.gpu_options.per_process_gpu_memory_fraction = 0.3\n",
    "config.gpu_options.allow_growth = True\n",
    "set_session(tf.Session(config=config))"
   ]
  },
  {
   "cell_type": "code",
   "execution_count": 3,
   "metadata": {},
   "outputs": [],
   "source": [
    "import numpy as np\n",
    "import pandas as pd\n",
    "from keras.models import Sequential, Model\n",
    "from keras.layers import Dense, Dropout\n",
    "from keras.layers import Embedding\n",
    "from keras.layers import LSTM\n",
    "from keras.layers import Input\n",
    "from keras.layers import concatenate\n",
    "from keras.optimizers import SGD\n",
    "from keras.layers.core import Lambda\n",
    "import keras.backend as K"
   ]
  },
  {
   "cell_type": "code",
   "execution_count": 4,
   "metadata": {},
   "outputs": [],
   "source": [
    "LSTM_output_size=4\n",
    "banch_size_lstm=100"
   ]
  },
  {
   "cell_type": "markdown",
   "metadata": {},
   "source": [
    "## SGD network\n",
    "\n",
    "LSTM+全连接"
   ]
  },
  {
   "cell_type": "code",
   "execution_count": 23,
   "metadata": {},
   "outputs": [],
   "source": [
    "# 考虑1000天，50只股票，100个微观因子，10个宏观因子\n",
    "# SGD networks\n",
    "macro_in1 = Input(shape=(10,))\n",
    "macro_in1_1 = Lambda(lambda x:K.reshape(x, shape=(-1,1, 10)))(macro_in1)\n",
    "\n",
    "\n",
    "sgd_lstm_out = LSTM(4)(macro_in1_1) # (1000, 4)\n",
    "sgd_lstm_out = Lambda(lambda x:K.repeat(x, 50))(sgd_lstm_out)\n",
    "\n",
    "micro_in1 = Input(shape=(50,100)) \n",
    "return_next_date1 = Input(shape=(50,))\n",
    "\n",
    "sgd_weights_input = concatenate([micro_in1, sgd_lstm_out]) # (1000, 50, 104)  \n",
    "\n",
    "sgd_weights_output = Dense(64, activation='relu')(sgd_weights_input)\n",
    "sgd_weights_output = Dense(64, activation='relu')(sgd_weights_input)\n",
    "sgd_weights_output = Dense(1)(sgd_weights_input)\n",
    "sgd_weights_output = Lambda(lambda x:K.reshape(x, shape=(-1, 50)))(sgd_weights_output)\n",
    "\n",
    "\n",
    "def construction(x):\n",
    "    tmp = x[0] * x[1]\n",
    "    tmp = 1-K.sum(tmp, axis=1)\n",
    "    tmp = K.reshape(tmp, shape=(-1,1)) # (1000, 1)\n",
    "    tmp = K.repeat(tmp, 50) # (1000, 50, 1)\n",
    "    tmp = K.reshape(tmp, shape=(-1,50)) # (1000, 50)\n",
    "    tmp = tmp * x[1] # (1000, 50)\n",
    "    tmp = K.reshape(tmp, shape=(-1, 50, 1))\n",
    "    return tmp # the M_{t+1}R_{t+1}\n",
    "\n",
    "sgd_construction_ouput = Lambda(construction)([sgd_weights_output,return_next_date1])\n",
    "\n",
    "\n",
    "## attain con_g_output \n",
    "con_g_output_loaded = Input(shape=(50, 8))\n",
    "\n",
    "loss_function_w = Lambda(lambda x:x[0]*x[1])([sgd_construction_ouput, con_g_output_loaded]) # (1000,50, 8)\n",
    "loss_function_w = Lambda(lambda x:K.reshape(x, shape=(-1, 400)))(loss_function_w)\n",
    "\n",
    "model_output_w = Model(inputs=[macro_in1, micro_in1], outputs=sgd_weights_output) # acquires weights given info\n",
    "\n",
    "model_output_sgd = Model(inputs=[macro_in1, micro_in1, return_next_date1], outputs=sgd_construction_ouput) # acquires MR for condition networks\n",
    "\n",
    "model_w = Model(inputs=[macro_in1, micro_in1, return_next_date1, con_g_output_loaded], outputs=loss_function_w)\n",
    "model_w.compile(optimizer='adam', loss='mean_squared_error')\n",
    "\n",
    "\n"
   ]
  },
  {
   "cell_type": "code",
   "execution_count": 26,
   "metadata": {},
   "outputs": [],
   "source": [
    "# conditional networks\n",
    "macro_in2 = Input(shape=(10,))\n",
    "macro_in2_1 = Lambda(lambda x:K.reshape(x, shape=(-1,1, 10)))(macro_in2)\n",
    "\n",
    "micro_in2 = Input(shape=(50,100))\n",
    "\n",
    "return_next_date2 = Input(shape=(50,))\n",
    "\n",
    "sgd_construction_ouput_loaded = Input(shape=(50,1))\n",
    "\n",
    "con_lstm_out = LSTM(4)(macro_in2_1) # (1000, 4)\n",
    "con_lstm_out = Lambda(lambda x:K.repeat(x, 50))(con_lstm_out)\n",
    "\n",
    "con_weights_input = concatenate([micro_in2, con_lstm_out]) # (1000, 50, 104)  \n",
    "\n",
    "con_g_output = Dense(64, activation='relu')(con_weights_input)\n",
    "con_g_output = Dense(8)(con_g_output) # (1000, 50, 8)\n",
    "\n",
    "loss_function_g = Lambda(lambda x:1/(0.001+x[0]*x[1]))([sgd_construction_ouput_loaded, con_g_output]) # (1000,50, 8)\n",
    "loss_function_g = Lambda(lambda x:K.reshape(x, shape=(-1, 400)))(loss_function_g)\n",
    "\n",
    "model_output_g = Model(inputs=[macro_in2, micro_in2], outputs=con_g_output) # acquires MR for condition networks\n",
    "\n",
    "model_g = Model(inputs=[macro_in2, micro_in2, return_next_date2, sgd_construction_ouput_loaded], outputs=loss_function_g)\n",
    "model_g.compile(optimizer='adam', loss='mean_squared_error')"
   ]
  },
  {
   "cell_type": "code",
   "execution_count": 27,
   "metadata": {},
   "outputs": [
    {
     "name": "stdout",
     "output_type": "stream",
     "text": [
      "Epoch 1/10\n",
      "100/100 [==============================] - 1s 15ms/step - loss: 0.3143\n",
      "Epoch 2/10\n",
      "100/100 [==============================] - 1s 11ms/step - loss: 0.3105\n",
      "Epoch 3/10\n",
      "100/100 [==============================] - 1s 9ms/step - loss: 0.3067\n",
      "Epoch 4/10\n",
      "100/100 [==============================] - 1s 9ms/step - loss: 0.3029\n",
      "Epoch 5/10\n",
      "100/100 [==============================] - 1s 10ms/step - loss: 0.2992\n",
      "Epoch 6/10\n",
      "100/100 [==============================] - 1s 10ms/step - loss: 0.2956\n",
      "Epoch 7/10\n",
      "100/100 [==============================] - 1s 10ms/step - loss: 0.2920\n",
      "Epoch 8/10\n",
      "100/100 [==============================] - 1s 11ms/step - loss: 0.2885\n",
      "Epoch 9/10\n",
      "100/100 [==============================] - 1s 12ms/step - loss: 0.2850\n",
      "Epoch 10/10\n",
      "100/100 [==============================] - 1s 11ms/step - loss: 0.2816\n"
     ]
    },
    {
     "data": {
      "text/plain": [
       "<keras.callbacks.callbacks.History at 0x21cc0db4e10>"
      ]
     },
     "execution_count": 27,
     "metadata": {},
     "output_type": "execute_result"
    }
   ],
   "source": [
    "y_train = np.random.random((1000, 400))\n",
    "macro_in = np.random.random((1000, 10))\n",
    "micro_in = np.random.random((1000, 50, 100))\n",
    "return_next_date = np.random.random((1000, 50))\n",
    "function_g = np.random.random((1000, 50, 8))\n",
    "for i in range(2):\n",
    "    # SDF nets\n",
    "    model_w.fit([macro_in, micro_in, return_next_date, function_g], y_train, epochs=10, batch_size=200)\n",
    "    function_sgd = model_output_sgd.predict([macro_in, micro_in, return_next_date])\n",
    "    print(function_sgd)\n",
    "    # conditional nets\n",
    "    model_g.fit([macro_in, micro_in, return_next_date, function_sgd], y_train, epochs=10, batch_size=200)\n",
    "    function_g = model_output_g.predict([macro_in, micro_in])\n",
    "    \n",
    "# get the optimal weights(SDF weights)\n",
    "print(model_output_w.predict([macro_in, micro_in])[0])"
   ]
  },
  {
   "cell_type": "code",
   "execution_count": null,
   "metadata": {},
   "outputs": [],
   "source": [
    "y_train = np.random.random(1)"
   ]
  },
  {
   "cell_type": "code",
   "execution_count": null,
   "metadata": {},
   "outputs": [],
   "source": [
    "y_train"
   ]
  },
  {
   "cell_type": "code",
   "execution_count": null,
   "metadata": {},
   "outputs": [],
   "source": [
    "from keras.models import Sequential\n",
    "from keras.layers import LSTM, Dense\n",
    "import numpy as np\n",
    "\n",
    "data_dim = 16\n",
    "timesteps = 8\n",
    "num_classes = 10\n",
    "\n",
    "# 期望输入数据尺寸: (batch_size, timesteps, data_dim)\n",
    "model = Sequential()\n",
    "model.add(LSTM(32, return_sequences=True,\n",
    "               input_shape=(timesteps, data_dim)))  # 返回维度为 32 的向量序列\n",
    "model.add(LSTM(32, return_sequences=True))  # 返回维度为 32 的向量序列\n",
    "model.add(LSTM(32))  # 返回维度为 32 的单个向量\n",
    "model.add(Dense(10, activation='softmax'))\n",
    "\n",
    "model.compile(loss='categorical_crossentropy',\n",
    "              optimizer='rmsprop',\n",
    "              metrics=['accuracy'])\n",
    "\n",
    "# 生成虚拟训练数据\n",
    "x_train = np.random.random((1000, timesteps, data_dim))\n",
    "y_train = np.random.random((1000, num_classes))\n",
    "\n",
    "# 生成虚拟验证数据\n",
    "x_val = np.random.random((100, timesteps, data_dim))\n",
    "y_val = np.random.random((100, num_classes))\n",
    "\n",
    "model.fit(x_train, y_train,\n",
    "          batch_size=64, epochs=5,\n",
    "          validation_data=(x_val, y_val))"
   ]
  },
  {
   "cell_type": "code",
   "execution_count": 17,
   "metadata": {},
   "outputs": [
    {
     "data": {
      "text/plain": [
       "array([[0.90353493, 0.20216126, 0.41790339, ..., 0.55039814, 0.86175544,\n",
       "        0.70928886],\n",
       "       [0.32452567, 0.85630184, 0.59458935, ..., 0.09543519, 0.46461841,\n",
       "        0.27331959],\n",
       "       [0.62028556, 0.49443296, 0.15008156, ..., 0.99144689, 0.32100579,\n",
       "        0.06468506],\n",
       "       ...,\n",
       "       [0.08456323, 0.42261279, 0.98871538, ..., 0.29013578, 0.82997586,\n",
       "        0.2987058 ],\n",
       "       [0.66707212, 0.50337306, 0.88517786, ..., 0.30469212, 0.70286074,\n",
       "        0.74676035],\n",
       "       [0.92523623, 0.15166534, 0.70512259, ..., 0.54618122, 0.41346263,\n",
       "        0.03624436]])"
      ]
     },
     "execution_count": 17,
     "metadata": {},
     "output_type": "execute_result"
    }
   ],
   "source": [
    "K=np.random.random((1000,10))\n",
    "K"
   ]
  },
  {
   "cell_type": "code",
   "execution_count": 30,
   "metadata": {},
   "outputs": [
    {
     "data": {
      "text/plain": [
       "(1000, 10)"
      ]
     },
     "execution_count": 30,
     "metadata": {},
     "output_type": "execute_result"
    }
   ],
   "source": [
    "K.shape"
   ]
  },
  {
   "cell_type": "code",
   "execution_count": 19,
   "metadata": {},
   "outputs": [
    {
     "data": {
      "text/plain": [
       "array([0.90353493, 0.90353493, 0.90353493, ..., 0.03624436, 0.03624436,\n",
       "       0.03624436])"
      ]
     },
     "execution_count": 19,
     "metadata": {},
     "output_type": "execute_result"
    }
   ],
   "source": [
    "KK=np.repeat(K,50)\n",
    "KK"
   ]
  },
  {
   "cell_type": "code",
   "execution_count": 20,
   "metadata": {},
   "outputs": [
    {
     "data": {
      "text/plain": [
       "(500000,)"
      ]
     },
     "execution_count": 20,
     "metadata": {},
     "output_type": "execute_result"
    }
   ],
   "source": [
    "KK.shape"
   ]
  },
  {
   "cell_type": "code",
   "execution_count": 21,
   "metadata": {},
   "outputs": [
    {
     "data": {
      "text/plain": [
       "array([[0.90353493, 0.20216126, 0.41790339, ..., 0.55039814, 0.86175544,\n",
       "        0.70928886],\n",
       "       [0.32452567, 0.85630184, 0.59458935, ..., 0.09543519, 0.46461841,\n",
       "        0.27331959],\n",
       "       [0.62028556, 0.49443296, 0.15008156, ..., 0.99144689, 0.32100579,\n",
       "        0.06468506],\n",
       "       ...,\n",
       "       [0.08456323, 0.42261279, 0.98871538, ..., 0.29013578, 0.82997586,\n",
       "        0.2987058 ],\n",
       "       [0.66707212, 0.50337306, 0.88517786, ..., 0.30469212, 0.70286074,\n",
       "        0.74676035],\n",
       "       [0.92523623, 0.15166534, 0.70512259, ..., 0.54618122, 0.41346263,\n",
       "        0.03624436]])"
      ]
     },
     "execution_count": 21,
     "metadata": {},
     "output_type": "execute_result"
    }
   ],
   "source": [
    "K"
   ]
  },
  {
   "cell_type": "code",
   "execution_count": 31,
   "metadata": {},
   "outputs": [
    {
     "data": {
      "text/plain": [
       "array([[[0.90353493, 0.20216126, 0.41790339, ..., 0.55039814,\n",
       "         0.86175544, 0.70928886],\n",
       "        [0.32452567, 0.85630184, 0.59458935, ..., 0.09543519,\n",
       "         0.46461841, 0.27331959],\n",
       "        [0.62028556, 0.49443296, 0.15008156, ..., 0.99144689,\n",
       "         0.32100579, 0.06468506],\n",
       "        ...,\n",
       "        [0.08456323, 0.42261279, 0.98871538, ..., 0.29013578,\n",
       "         0.82997586, 0.2987058 ],\n",
       "        [0.66707212, 0.50337306, 0.88517786, ..., 0.30469212,\n",
       "         0.70286074, 0.74676035],\n",
       "        [0.92523623, 0.15166534, 0.70512259, ..., 0.54618122,\n",
       "         0.41346263, 0.03624436]]])"
      ]
     },
     "execution_count": 31,
     "metadata": {},
     "output_type": "execute_result"
    }
   ],
   "source": [
    "KKK=K.reshape((1,-1,10))\n",
    "KKK"
   ]
  },
  {
   "cell_type": "code",
   "execution_count": 32,
   "metadata": {},
   "outputs": [
    {
     "data": {
      "text/plain": [
       "(1, 1000, 10)"
      ]
     },
     "execution_count": 32,
     "metadata": {},
     "output_type": "execute_result"
    }
   ],
   "source": [
    "KKK.shape"
   ]
  },
  {
   "cell_type": "code",
   "execution_count": 30,
   "metadata": {},
   "outputs": [
    {
     "data": {
      "text/plain": [
       "array([[0.99628178, 0.29435117, 0.46284603, ..., 0.30222297, 0.81661866,\n",
       "        0.91125386],\n",
       "       [0.58166571, 0.82097276, 0.29561252, ..., 0.07252075, 0.93790192,\n",
       "        0.23404779],\n",
       "       [0.24662393, 0.8790145 , 0.0437841 , ..., 0.90069746, 0.26071325,\n",
       "        0.80119435],\n",
       "       ...,\n",
       "       [0.0704563 , 0.74303609, 0.33504429, ..., 0.37740743, 0.89038861,\n",
       "        0.48007831],\n",
       "       [0.58790177, 0.65143357, 0.31676697, ..., 0.88985375, 0.45117266,\n",
       "        0.54780127],\n",
       "       [0.52528805, 0.41007237, 0.81842603, ..., 0.63310726, 0.89992533,\n",
       "        0.4285128 ]])"
      ]
     },
     "execution_count": 30,
     "metadata": {},
     "output_type": "execute_result"
    }
   ],
   "source": [
    "K=np.random.random((1000,50))\n",
    "K"
   ]
  },
  {
   "cell_type": "code",
   "execution_count": 33,
   "metadata": {},
   "outputs": [
    {
     "data": {
      "text/plain": [
       "(50,)"
      ]
     },
     "execution_count": 33,
     "metadata": {},
     "output_type": "execute_result"
    }
   ],
   "source": [
    "np.sum(K,axis=0).shape"
   ]
  },
  {
   "cell_type": "code",
   "execution_count": 34,
   "metadata": {},
   "outputs": [
    {
     "data": {
      "text/plain": [
       "(1000,)"
      ]
     },
     "execution_count": 34,
     "metadata": {},
     "output_type": "execute_result"
    }
   ],
   "source": [
    "np.sum(K,axis=1).shape"
   ]
  },
  {
   "cell_type": "code",
   "execution_count": 19,
   "metadata": {},
   "outputs": [
    {
     "data": {
      "text/plain": [
       "array([[0.77975869, 0.93603067, 0.79986745, 0.04857298, 0.73845586,\n",
       "        0.02749797, 0.87503324, 0.53976727, 0.05298363, 0.3511038 ,\n",
       "        0.96704053, 0.91207224, 0.0372148 , 0.45494143, 0.64264947,\n",
       "        0.70155295, 0.62358242, 0.00407979, 0.39574575, 0.71317738,\n",
       "        0.9508727 , 0.38351257, 0.02334646, 0.57094746, 0.66164877,\n",
       "        0.12517307, 0.41672333, 0.09611085, 0.73747775, 0.17884378,\n",
       "        0.12866678, 0.90725255, 0.67241788, 0.94779316, 0.75516832,\n",
       "        0.56277588, 0.74096592, 0.88334308, 0.08267869, 0.98425163,\n",
       "        0.07809417, 0.85447412, 0.61777022, 0.06439601, 0.81936819,\n",
       "        0.29494959, 0.21982498, 0.40658395, 0.76191079, 0.3686963 ]])"
      ]
     },
     "execution_count": 19,
     "metadata": {},
     "output_type": "execute_result"
    }
   ],
   "source": [
    "KK=np.random.random((1,50))\n",
    "KK"
   ]
  },
  {
   "cell_type": "code",
   "execution_count": 20,
   "metadata": {},
   "outputs": [],
   "source": [
    "KKK=[K,KK]"
   ]
  },
  {
   "cell_type": "code",
   "execution_count": 21,
   "metadata": {},
   "outputs": [
    {
     "data": {
      "text/plain": [
       "[array([[0.70998972, 0.71992364, 0.30119573, 0.20244295, 0.10683678,\n",
       "         0.79208883, 0.02023982, 0.79557133, 0.7008411 , 0.77696174,\n",
       "         0.58093416, 0.57751959, 0.30056209, 0.1749741 , 0.29239514,\n",
       "         0.69407365, 0.49015877, 0.2605282 , 0.7782107 , 0.82409314,\n",
       "         0.09254306, 0.492695  , 0.8223652 , 0.88640789, 0.59002843,\n",
       "         0.06482253, 0.03791211, 0.72042701, 0.36633764, 0.45148386,\n",
       "         0.47161943, 0.93889374, 0.53560761, 0.2406307 , 0.79240599,\n",
       "         0.99778994, 0.281241  , 0.408207  , 0.46509142, 0.11584683,\n",
       "         0.08842605, 0.00796081, 0.95978046, 0.95702752, 0.27990984,\n",
       "         0.89244255, 0.84229321, 0.05528952, 0.68625034, 0.66076211]]),\n",
       " array([[0.77975869, 0.93603067, 0.79986745, 0.04857298, 0.73845586,\n",
       "         0.02749797, 0.87503324, 0.53976727, 0.05298363, 0.3511038 ,\n",
       "         0.96704053, 0.91207224, 0.0372148 , 0.45494143, 0.64264947,\n",
       "         0.70155295, 0.62358242, 0.00407979, 0.39574575, 0.71317738,\n",
       "         0.9508727 , 0.38351257, 0.02334646, 0.57094746, 0.66164877,\n",
       "         0.12517307, 0.41672333, 0.09611085, 0.73747775, 0.17884378,\n",
       "         0.12866678, 0.90725255, 0.67241788, 0.94779316, 0.75516832,\n",
       "         0.56277588, 0.74096592, 0.88334308, 0.08267869, 0.98425163,\n",
       "         0.07809417, 0.85447412, 0.61777022, 0.06439601, 0.81936819,\n",
       "         0.29494959, 0.21982498, 0.40658395, 0.76191079, 0.3686963 ]])]"
      ]
     },
     "execution_count": 21,
     "metadata": {},
     "output_type": "execute_result"
    }
   ],
   "source": [
    "KKK"
   ]
  },
  {
   "cell_type": "code",
   "execution_count": 22,
   "metadata": {},
   "outputs": [],
   "source": [
    "k=1-KKK[0]*KKK[1]"
   ]
  },
  {
   "cell_type": "code",
   "execution_count": 23,
   "metadata": {},
   "outputs": [
    {
     "data": {
      "text/plain": [
       "(1, 50)"
      ]
     },
     "execution_count": 23,
     "metadata": {},
     "output_type": "execute_result"
    }
   ],
   "source": [
    "k.shape"
   ]
  },
  {
   "cell_type": "code",
   "execution_count": 24,
   "metadata": {},
   "outputs": [
    {
     "data": {
      "text/plain": [
       "array([[0.44637935, 0.32612939, 0.75908334, 0.99016674, 0.92110575,\n",
       "        0.97821917, 0.98228948, 0.57057663, 0.96286689, 0.72720578,\n",
       "        0.43821312, 0.47326041, 0.98881464, 0.92039703, 0.81209242,\n",
       "        0.51307059, 0.69434561, 0.9989371 , 0.69202642, 0.41227541,\n",
       "        0.91200334, 0.81104528, 0.98080068, 0.49390766, 0.60960842,\n",
       "        0.99188596, 0.98420114, 0.93075915, 0.72983414, 0.91925492,\n",
       "        0.93931825, 0.14818627, 0.63984787, 0.77193187, 0.4016001 ,\n",
       "        0.43846789, 0.79161001, 0.63941317, 0.96154685, 0.88597757,\n",
       "        0.99309444, 0.99319769, 0.40707621, 0.93837125, 0.77065078,\n",
       "        0.73677444, 0.81484291, 0.97752017, 0.47713846, 0.75637945]])"
      ]
     },
     "execution_count": 24,
     "metadata": {},
     "output_type": "execute_result"
    }
   ],
   "source": [
    "k"
   ]
  },
  {
   "cell_type": "code",
   "execution_count": 27,
   "metadata": {},
   "outputs": [
    {
     "data": {
      "text/plain": [
       "array([0.44637935, 0.32612939, 0.75908334, 0.99016674, 0.92110575,\n",
       "       0.97821917, 0.98228948, 0.57057663, 0.96286689, 0.72720578,\n",
       "       0.43821312, 0.47326041, 0.98881464, 0.92039703, 0.81209242,\n",
       "       0.51307059, 0.69434561, 0.9989371 , 0.69202642, 0.41227541,\n",
       "       0.91200334, 0.81104528, 0.98080068, 0.49390766, 0.60960842,\n",
       "       0.99188596, 0.98420114, 0.93075915, 0.72983414, 0.91925492,\n",
       "       0.93931825, 0.14818627, 0.63984787, 0.77193187, 0.4016001 ,\n",
       "       0.43846789, 0.79161001, 0.63941317, 0.96154685, 0.88597757,\n",
       "       0.99309444, 0.99319769, 0.40707621, 0.93837125, 0.77065078,\n",
       "       0.73677444, 0.81484291, 0.97752017, 0.47713846, 0.75637945])"
      ]
     },
     "execution_count": 27,
     "metadata": {},
     "output_type": "execute_result"
    }
   ],
   "source": [
    "np.sum(k,axis=0)"
   ]
  },
  {
   "cell_type": "code",
   "execution_count": 29,
   "metadata": {},
   "outputs": [
    {
     "data": {
      "text/plain": [
       "(1, 50)"
      ]
     },
     "execution_count": 29,
     "metadata": {},
     "output_type": "execute_result"
    }
   ],
   "source": [
    "KK.shape"
   ]
  },
  {
   "cell_type": "code",
   "execution_count": null,
   "metadata": {},
   "outputs": [],
   "source": []
  }
 ],
 "metadata": {
  "kernelspec": {
   "display_name": "Python 3",
   "language": "python",
   "name": "python3"
  },
  "language_info": {
   "codemirror_mode": {
    "name": "ipython",
    "version": 3
   },
   "file_extension": ".py",
   "mimetype": "text/x-python",
   "name": "python",
   "nbconvert_exporter": "python",
   "pygments_lexer": "ipython3",
   "version": "3.7.3"
  }
 },
 "nbformat": 4,
 "nbformat_minor": 2
}
