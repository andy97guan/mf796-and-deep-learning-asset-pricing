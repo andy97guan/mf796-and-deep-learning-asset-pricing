{
 "cells": [
  {
   "cell_type": "code",
   "execution_count": 2,
   "metadata": {},
   "outputs": [],
   "source": [
    "import numpy as np\n",
    "import pandas as pd\n",
    "import pickle"
   ]
  },
  {
   "cell_type": "code",
   "execution_count": 3,
   "metadata": {},
   "outputs": [],
   "source": [
    "# Next day return\n",
    "stock_price = pd.read_excel('796 price-data.xlsx')\n",
    "stock_price = stock_price[stock_price.Date>='2007-01-01']\n",
    "stock_price = stock_price.set_index('Date')\n",
    "stock_price = stock_price.fillna(method='bfill') # bfill N/A\n",
    "return_next_date = stock_price.pct_change().shift(-1)\n",
    "return_next_date.dropna(inplace=True)"
   ]
  },
  {
   "cell_type": "code",
   "execution_count": 4,
   "metadata": {},
   "outputs": [],
   "source": [
    "# Macro\n",
    "macro = pd.read_excel('796 macro-data.xlsx')\n",
    "macro = macro[macro.Date>='2006-01-01']\n",
    "macro = macro.set_index('Date')\n",
    "macro = macro.fillna(method='bfill')"
   ]
  },
  {
   "cell_type": "code",
   "execution_count": 5,
   "metadata": {},
   "outputs": [],
   "source": [
    "macro_lag = 12\n",
    "macro_monthly = macro.resample('M', convention='end').ffill()\n",
    "macro_data = np.zeros((return_next_date.shape[0],macro_lag+1,macro.shape[1]))\n",
    "for j in range(0,macro_lag+1):\n",
    "    tmp = pd.DataFrame(index=macro.index)\n",
    "    tmp = pd.DataFrame.merge(tmp,macro_monthly.shift(j),how='left',on='Date')\n",
    "    tmp = tmp.fillna(method='bfill').loc[return_next_date.index,:]\n",
    "    tmp = tmp.fillna(macro_monthly.shift(11).loc['2020-04-30'])\n",
    "    macro_data[:,j,:] = tmp"
   ]
  },
  {
   "cell_type": "code",
   "execution_count": 8,
   "metadata": {},
   "outputs": [],
   "source": [
    "wb = pd.ExcelFile('796 micro-data.xlsx')\n",
    "sheets = wb.sheet_names"
   ]
  },
  {
   "cell_type": "code",
   "execution_count": 9,
   "metadata": {},
   "outputs": [],
   "source": [
    "df = wb.parse(sheets[3])\n",
    "df = df.set_index('Date').loc['2007-01-04':'2020-04-17',:]\n",
    "micro_data = np.zeros((df.shape[0],df.shape[1],len(sheets)))\n",
    "i = 0\n",
    "for s in sheets:\n",
    "    df = wb.parse(s)\n",
    "    df = df.set_index('Date').loc['2007-01-04':'2020-04-17',:]\n",
    "    df = df.fillna(method='bfill')\n",
    "    micro_data[:,:,i] = df.values\n",
    "    i = i + 1"
   ]
  },
  {
   "cell_type": "code",
   "execution_count": 10,
   "metadata": {},
   "outputs": [],
   "source": [
    "return_data = return_next_date.values"
   ]
  },
  {
   "cell_type": "code",
   "execution_count": 11,
   "metadata": {},
   "outputs": [],
   "source": [
    "file = open('a1', 'wb')\n",
    "pickle.dump([macro_data,micro_data,return_next_date], file)\n",
    "file.close()"
   ]
  },
  {
   "cell_type": "code",
   "execution_count": null,
   "metadata": {},
   "outputs": [],
   "source": []
  }
 ],
 "metadata": {
  "kernelspec": {
   "display_name": "Python 3",
   "language": "python",
   "name": "python3"
  },
  "language_info": {
   "codemirror_mode": {
    "name": "ipython",
    "version": 3
   },
   "file_extension": ".py",
   "mimetype": "text/x-python",
   "name": "python",
   "nbconvert_exporter": "python",
   "pygments_lexer": "ipython3",
   "version": "3.7.3"
  }
 },
 "nbformat": 4,
 "nbformat_minor": 2
}
